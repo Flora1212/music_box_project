{
 "cells": [
  {
   "cell_type": "code",
   "execution_count": 422,
   "metadata": {},
   "outputs": [],
   "source": [
    "#!pip install --upgrade pandas\n",
    "#!pip install --upgrade scikit-learn\n",
    "#pip install --upgrade scipy\n",
    "#!pip install --upgrade matplotlib\n",
    "#!pip install --upgrade xgboost\n",
    "\n",
    "import pandas as pd\n",
    "import numpy as np\n",
    "\n",
    "from pyspark.sql import functions as F\n",
    "from pyspark.sql.functions import *\n",
    "from pyspark.sql.types import *\n",
    "\n",
    "from sklearn import preprocessing\n",
    "from sklearn.cross_validation import train_test_split\n",
    "from sklearn.linear_model import LogisticRegression\n",
    "from xgboost import XGBClassifier\n",
    "from sklearn.ensemble import RandomForestClassifier\n",
    "from sklearn.model_selection import GridSearchCV\n",
    "from sklearn.metrics import precision_score, accuracy_score, recall_score, f1_score, roc_auc_score,roc_curve\n",
    "\n",
    "import matplotlib.pyplot as plt\n"
   ]
  },
  {
   "cell_type": "markdown",
   "metadata": {},
   "source": [
    "# Load Data"
   ]
  },
  {
   "cell_type": "markdown",
   "metadata": {},
   "source": [
    "## Load play data"
   ]
  },
  {
   "cell_type": "code",
   "execution_count": 2,
   "metadata": {
    "collapsed": true
   },
   "outputs": [],
   "source": [
    "schema = StructType([StructField(\"uid\", StringType(), True), \n",
    "                     StructField('device', StringType(), True),\n",
    "                     StructField('song_id', StringType(), True),\n",
    "                     StructField('song_type', StringType(), True),\n",
    "                     StructField('song_name', StringType(), True),\n",
    "                     StructField('singer', StringType(), True),\n",
    "                     StructField('play_time', StringType(), True),\n",
    "                     StructField('song_length', StringType(), True),\n",
    "                     StructField('paid_flag', StringType(), True),\n",
    "                     StructField('file_name', StringType(), True)])\n",
    "# note: the data type should be the right type. First, I change the types and it doesn't work."
   ]
  },
  {
   "cell_type": "code",
   "execution_count": 3,
   "metadata": {
    "collapsed": true
   },
   "outputs": [],
   "source": [
    "df = sqlContext.read.format(\"com.databricks.spark.csv\")\\\n",
    "         .options(delimiter=\"\\t\").schema(schema)\\\n",
    "         .options(header=\"false\").load(\"gs://musix_box/all_play.log.fn\")"
   ]
  },
  {
   "cell_type": "code",
   "execution_count": 5,
   "metadata": {
    "collapsed": true
   },
   "outputs": [],
   "source": [
    "# delete the extra space in each column\n",
    "df = df.withColumn('uid', trim(df.uid))\n",
    "df = df.withColumn('device', trim(df.device))\n",
    "df = df.withColumn('song_id', trim(df.song_id))\n",
    "df = df.withColumn('song_type', trim(df.song_type))\n",
    "df = df.withColumn('song_name', trim(df.song_name))\n",
    "df = df.withColumn('singer', trim(df.singer))\n",
    "df = df.withColumn('play_time', trim(df.play_time))\n",
    "df = df.withColumn('song_length', trim(df.song_length))\n",
    "df = df.withColumn('paid_flag', trim(df.paid_flag))\n",
    "df = df.withColumn('file_name', trim(df.file_name))"
   ]
  },
  {
   "cell_type": "markdown",
   "metadata": {},
   "source": [
    "## Load Download Data"
   ]
  },
  {
   "cell_type": "code",
   "execution_count": 255,
   "metadata": {},
   "outputs": [],
   "source": [
    "schema_down = StructType([StructField(\"uid\", StringType(), True), \n",
    "                     StructField('device', StringType(), True),\n",
    "                     StructField('song_id', StringType(), True),\n",
    "                     StructField('song_name', StringType(), True),\n",
    "                     StructField('singer', StringType(), True),\n",
    "                     StructField('paid_flag', StringType(), True),\n",
    "                     StructField('file_name', StringType(), True)])"
   ]
  },
  {
   "cell_type": "code",
   "execution_count": 256,
   "metadata": {
    "collapsed": true
   },
   "outputs": [],
   "source": [
    "df_down = sqlContext.read.format(\"com.databricks.spark.csv\")\\\n",
    "         .options(delimiter=\"\\t\").schema(schema_down)\\\n",
    "         .options(header=\"false\").load(\"gs://musix_box/all_down.log.fn\")"
   ]
  },
  {
   "cell_type": "code",
   "execution_count": 257,
   "metadata": {},
   "outputs": [],
   "source": [
    "# delete the extra space in each column\n",
    "df_down = df_down.withColumn('uid', trim(df_down.uid))\n",
    "df_down = df_down.withColumn('device', trim(df_down.device))\n",
    "df_down = df_down.withColumn('song_id', trim(df_down.song_id))\n",
    "df_down = df_down.withColumn('song_name', trim(df_down.song_name))\n",
    "df_down = df_down.withColumn('singer', trim(df_down.singer))\n",
    "df_down = df_down.withColumn('file_name', trim(df_down.file_name))"
   ]
  },
  {
   "cell_type": "code",
   "execution_count": 258,
   "metadata": {},
   "outputs": [
    {
     "name": "stdout",
     "output_type": "stream",
     "text": [
      "+---------+------+-------+--------------------+-------------------+---------+-------------------+\n",
      "|      uid|device|song_id|           song_name|             singer|paid_flag|          file_name|\n",
      "+---------+------+-------+--------------------+-------------------+---------+-------------------+\n",
      "|168019810|    ar| 442554|                 小酒窝|            林俊杰&蔡卓妍|       0 |20170330_1_down.log|\n",
      "|168019810|    ar|6334611|                 社会摇|                 萧全|       0 |20170330_1_down.log|\n",
      "|168019810|    ar|9867382|                  台阶|                 武艺|       0 |20170330_1_down.log|\n",
      "|168019810|    ar|6660691| 一次就好-(电影《夏洛特烦恼》暖水曲)|                杨宗纬|       0 |20170330_1_down.log|\n",
      "|168019810|    ar| 157606|               一路上有你|                张学友|       0 |20170330_1_down.log|\n",
      "|168019810|    ar|3372481|        十年 (OT：明年今日)|                陈奕迅|       0 |20170330_1_down.log|\n",
      "|168019810|    ar|3216525|       你不知道的事(Live版)|                王力宏|       0 |20170330_1_down.log|\n",
      "|168019810|    ar|6427523|             Victory|Two Steps From Hell|       0 |20170330_1_down.log|\n",
      "|168019810|    ar|6538686|                  野子|                流浪者|       0 |20170330_1_down.log|\n",
      "|168019810|    ar|9327383|なんでもないや-[没什么大不了](...|           RADWIMPS|       0 |20170330_1_down.log|\n",
      "|168019810|    ar|6716077|我们不该这样的-(电视剧《北上广不...|                张赫宣|       0 |20170330_1_down.log|\n",
      "|168019810|    ar| 350052|                爱情转移|                陈奕迅|       0 |20170330_1_down.log|\n",
      "|168019810|    ar|3638735|               咱们结婚吧|                 齐晨|       0 |20170330_1_down.log|\n",
      "|168019810|    ar| 409466|        AlwaysOnline|                林俊杰|       0 |20170330_1_down.log|\n",
      "|168019810|    ar|1076725|Change The World(...|                 V6|       0 |20170330_1_down.log|\n",
      "|168019810|    ar|7130410|  Kyoto(Feat. Sirah)|           Skrillex|       0 |20170330_1_down.log|\n",
      "|168019810|    ar| 912614|               客官不可以|              徐良&小凌|       0 |20170330_1_down.log|\n",
      "|168019810|    ar|3654821|                  犯贱|                 徐良|       0 |20170330_1_down.log|\n",
      "|168050395|    ar|6544560|Let's Not Fall In...|            BIGBANG|       0 |20170330_1_down.log|\n",
      "|168019810|    ar|6673573|   What Do You Mean？|      Justin Bieber|       0 |20170330_1_down.log|\n",
      "+---------+------+-------+--------------------+-------------------+---------+-------------------+\n",
      "only showing top 20 rows\n",
      "\n"
     ]
    }
   ],
   "source": [
    "df_down.show()"
   ]
  },
  {
   "cell_type": "markdown",
   "metadata": {},
   "source": [
    "# Prepare Data"
   ]
  },
  {
   "cell_type": "markdown",
   "metadata": {},
   "source": [
    "## Add Date Feature"
   ]
  },
  {
   "cell_type": "code",
   "execution_count": 7,
   "metadata": {
    "collapsed": true
   },
   "outputs": [],
   "source": [
    "# define get_date function\n",
    "def get_date(file_name):\n",
    "    tmp_list = str(file_name).split('_')\n",
    "    return tmp_list[0]\n",
    "\n",
    "example_udf = F.udf(get_date)\n"
   ]
  },
  {
   "cell_type": "code",
   "execution_count": null,
   "metadata": {
    "collapsed": true
   },
   "outputs": [],
   "source": [
    "# add date to play dataset\n",
    "df_play = df.withColumn('date', example_udf(df.file_name))"
   ]
  },
  {
   "cell_type": "code",
   "execution_count": 9,
   "metadata": {},
   "outputs": [
    {
     "data": {
      "text/plain": [
       "[('uid', 'string'),\n",
       " ('device', 'string'),\n",
       " ('song_id', 'string'),\n",
       " ('song_type', 'string'),\n",
       " ('song_name', 'string'),\n",
       " ('singer', 'string'),\n",
       " ('play_time', 'string'),\n",
       " ('song_length', 'string'),\n",
       " ('paid_flag', 'string'),\n",
       " ('file_name', 'string'),\n",
       " ('date', 'string')]"
      ]
     },
     "execution_count": 9,
     "metadata": {},
     "output_type": "execute_result"
    }
   ],
   "source": [
    "# check types of df_play\n",
    "df_play.dtypes"
   ]
  },
  {
   "cell_type": "code",
   "execution_count": 13,
   "metadata": {},
   "outputs": [
    {
     "data": {
      "text/plain": [
       "[('uid', 'string'),\n",
       " ('device', 'string'),\n",
       " ('song_id', 'string'),\n",
       " ('song_type', 'string'),\n",
       " ('song_name', 'string'),\n",
       " ('singer', 'string'),\n",
       " ('play_time', 'float'),\n",
       " ('song_length', 'float'),\n",
       " ('paid_flag', 'string'),\n",
       " ('file_name', 'string'),\n",
       " ('date', 'int')]"
      ]
     },
     "execution_count": 13,
     "metadata": {},
     "output_type": "execute_result"
    }
   ],
   "source": [
    "# convert features to right data types\n",
    "df_play = df_play.withColumn('play_time', df_play['play_time'].cast('float'))\n",
    "df_play = df_play.withColumn('song_length', df_play['song_length'].cast('float'))\n",
    "df_play = df_play.withColumn('date', df_play['date'].cast('integer'))\n",
    "df_play.dtypes"
   ]
  },
  {
   "cell_type": "code",
   "execution_count": 259,
   "metadata": {},
   "outputs": [
    {
     "name": "stdout",
     "output_type": "stream",
     "text": [
      "+---------+------+-------+--------------------+-------------------+---------+-------------------+--------+\n",
      "|      uid|device|song_id|           song_name|             singer|paid_flag|          file_name|    date|\n",
      "+---------+------+-------+--------------------+-------------------+---------+-------------------+--------+\n",
      "|168019810|    ar| 442554|                 小酒窝|            林俊杰&蔡卓妍|       0 |20170330_1_down.log|20170330|\n",
      "|168019810|    ar|6334611|                 社会摇|                 萧全|       0 |20170330_1_down.log|20170330|\n",
      "|168019810|    ar|9867382|                  台阶|                 武艺|       0 |20170330_1_down.log|20170330|\n",
      "|168019810|    ar|6660691| 一次就好-(电影《夏洛特烦恼》暖水曲)|                杨宗纬|       0 |20170330_1_down.log|20170330|\n",
      "|168019810|    ar| 157606|               一路上有你|                张学友|       0 |20170330_1_down.log|20170330|\n",
      "|168019810|    ar|3372481|        十年 (OT：明年今日)|                陈奕迅|       0 |20170330_1_down.log|20170330|\n",
      "|168019810|    ar|3216525|       你不知道的事(Live版)|                王力宏|       0 |20170330_1_down.log|20170330|\n",
      "|168019810|    ar|6427523|             Victory|Two Steps From Hell|       0 |20170330_1_down.log|20170330|\n",
      "|168019810|    ar|6538686|                  野子|                流浪者|       0 |20170330_1_down.log|20170330|\n",
      "|168019810|    ar|9327383|なんでもないや-[没什么大不了](...|           RADWIMPS|       0 |20170330_1_down.log|20170330|\n",
      "|168019810|    ar|6716077|我们不该这样的-(电视剧《北上广不...|                张赫宣|       0 |20170330_1_down.log|20170330|\n",
      "|168019810|    ar| 350052|                爱情转移|                陈奕迅|       0 |20170330_1_down.log|20170330|\n",
      "|168019810|    ar|3638735|               咱们结婚吧|                 齐晨|       0 |20170330_1_down.log|20170330|\n",
      "|168019810|    ar| 409466|        AlwaysOnline|                林俊杰|       0 |20170330_1_down.log|20170330|\n",
      "|168019810|    ar|1076725|Change The World(...|                 V6|       0 |20170330_1_down.log|20170330|\n",
      "|168019810|    ar|7130410|  Kyoto(Feat. Sirah)|           Skrillex|       0 |20170330_1_down.log|20170330|\n",
      "|168019810|    ar| 912614|               客官不可以|              徐良&小凌|       0 |20170330_1_down.log|20170330|\n",
      "|168019810|    ar|3654821|                  犯贱|                 徐良|       0 |20170330_1_down.log|20170330|\n",
      "|168050395|    ar|6544560|Let's Not Fall In...|            BIGBANG|       0 |20170330_1_down.log|20170330|\n",
      "|168019810|    ar|6673573|   What Do You Mean？|      Justin Bieber|       0 |20170330_1_down.log|20170330|\n",
      "+---------+------+-------+--------------------+-------------------+---------+-------------------+--------+\n",
      "only showing top 20 rows\n",
      "\n"
     ]
    }
   ],
   "source": [
    "# add date to download dataset\n",
    "df_down = df_down.withColumn('date', example_udf(df_down.file_name))\n",
    "df_down.show()"
   ]
  },
  {
   "cell_type": "markdown",
   "metadata": {},
   "source": [
    "## Clean Data - exclude the extreme data"
   ]
  },
  {
   "cell_type": "code",
   "execution_count": 15,
   "metadata": {},
   "outputs": [],
   "source": [
    "# select the 95% quantile of play_time and 99% quantile of song_length with 0.005 relativeError\n",
    "extreme_play_time = df_play.approxQuantile(\"play_time\", [0.95], 0.005)"
   ]
  },
  {
   "cell_type": "code",
   "execution_count": 16,
   "metadata": {
    "collapsed": true
   },
   "outputs": [],
   "source": [
    "extreme_song_length = df_play.approxQuantile(\"song_length\", [0.99], 0.005)"
   ]
  },
  {
   "cell_type": "code",
   "execution_count": 17,
   "metadata": {},
   "outputs": [
    {
     "data": {
      "text/plain": [
       "([62694.0], [1386.0])"
      ]
     },
     "execution_count": 17,
     "metadata": {},
     "output_type": "execute_result"
    }
   ],
   "source": [
    "extreme_play_time, extreme_song_length"
   ]
  },
  {
   "cell_type": "code",
   "execution_count": 19,
   "metadata": {
    "collapsed": true
   },
   "outputs": [],
   "source": [
    "df_play_valid = df_play.filter((col('play_time') < extreme_play_time[0]) &\\\n",
    "                               (col('song_length') < extreme_song_length[0]) &\\\n",
    "                               (col('song_length') != 0))"
   ]
  },
  {
   "cell_type": "code",
   "execution_count": 20,
   "metadata": {
    "collapsed": true
   },
   "outputs": [],
   "source": [
    "# drop missing values\n",
    "df_play_valid = df_play_valid.na.drop()"
   ]
  },
  {
   "cell_type": "code",
   "execution_count": 38,
   "metadata": {},
   "outputs": [
    {
     "name": "stdout",
     "output_type": "stream",
     "text": [
      "+---------+------+--------+---------+--------------------+------+---------+-----------+---------+-------------------+--------+\n",
      "|      uid|device| song_id|song_type|           song_name|singer|play_time|song_length|paid_flag|          file_name|    date|\n",
      "+---------+------+--------+---------+--------------------+------+---------+-----------+---------+-------------------+--------+\n",
      "|154824972|    ar| 3300104|        0|     Not A Love Song|  Bean|     22.0|      178.0|        0|20170302_1_play.log|20170302|\n",
      "|154431666|    ar| 6651913|        0|             再见只是陌生人|   庄心妍|    252.0|      251.0|        0|20170302_1_play.log|20170302|\n",
      "|154439430|    ar|20870987|        0|                  哥哥|    张杰|    358.0|      358.0|        0|20170302_1_play.log|20170302|\n",
      "|154739280|    ar|  872687|        0|             苦酒一杯又一杯|   龙飘飘|    164.0|      165.0|        0|20170302_1_play.log|20170302|\n",
      "|154777138|    ip| 9950164|        0|               刚好遇见你|   李玉刚|      0.0|      200.0|        0|20170302_1_play.log|20170302|\n",
      "|154412619|    ar| 2268011|        0|               有一点动心|    群星|    235.0|      235.0|        0|20170302_1_play.log|20170302|\n",
      "|154830959|    ar|  238895|        0|                自由飞翔|  凤凰传奇|    256.0|      256.0|        0|20170302_1_play.log|20170302|\n",
      "|154412733|    ar|  135368|        0|       Big Big World|Emilia|    206.0|      206.0|        0|20170302_1_play.log|20170302|\n",
      "|154410884|    ip| 3433379|        0|                 就这样| 幼稚园杀手|    213.0|      213.0|        0|20170302_1_play.log|20170302|\n",
      "|154470406|    ar|20940997|        0|  向往-(电视剧《鸡毛飞上天》主题曲)|    孙楠|      5.0|      247.0|        0|20170302_1_play.log|20170302|\n",
      "|154707484|    ip|11950502|        0|                说散就散|    JC|    230.0|      230.0|        0|20170302_1_play.log|20170302|\n",
      "|154785481|    ip| 1092298|        0|         忘了你,忘了我(国语)|    王杰|    279.0|      279.0|        0|20170302_1_play.log|20170302|\n",
      "|154469823|    ar|20862199|        0|It's Love(Electro...|   张碧晨|    234.0|      235.0|        0|20170302_1_play.log|20170302|\n",
      "|154439516|    ar|20870987|        0|                  哥哥|    张杰|    358.0|      358.0|        0|20170302_1_play.log|20170302|\n",
      "|154436951|    ar|20870987|        0|                  哥哥|    张杰|     42.0|      358.0|        0|20170302_1_play.log|20170302|\n",
      "|154806770|    ar| 6710490|        0|            Be Happy| B.A.P|    216.0|      215.0|        0|20170302_1_play.log|20170302|\n",
      "|154470463|    ar|20866404|        0|那个静默的阳光午后-(电影《那个阳...|   范玮琪|      2.0|      170.0|        0|20170302_1_play.log|20170302|\n",
      "|154791407|    ar|20274975|        0|               枪硬马子稳|  MC千少|     94.0|       98.0|        0|20170302_1_play.log|20170302|\n",
      "|154439956|    ar|20870987|        0|                  哥哥|    张杰|    358.0|      358.0|        0|20170302_1_play.log|20170302|\n",
      "|154802726|    ar|  849802|        0|Kiss The Rain(钢琴曲...|    铃声|      6.0|       59.0|        0|20170302_1_play.log|20170302|\n",
      "+---------+------+--------+---------+--------------------+------+---------+-----------+---------+-------------------+--------+\n",
      "only showing top 20 rows\n",
      "\n"
     ]
    }
   ],
   "source": [
    "#df_play_valid.show()"
   ]
  },
  {
   "cell_type": "markdown",
   "metadata": {},
   "source": [
    "## Extract features"
   ]
  },
  {
   "cell_type": "markdown",
   "metadata": {},
   "source": [
    "### Features from Play dataset"
   ]
  },
  {
   "cell_type": "code",
   "execution_count": 317,
   "metadata": {
    "collapsed": true
   },
   "outputs": [],
   "source": [
    "# recency feature: 20170501(test time) - the latest time the user play before 20170501 \n",
    "df_recency = df_play_valid.filter((col('date') >= 20170329) & (col('date') <= 20170430)).groupBy(\"uid\").agg(20170501 -max('date'))"
   ]
  },
  {
   "cell_type": "code",
   "execution_count": 319,
   "metadata": {
    "collapsed": true
   },
   "outputs": [],
   "source": [
    "# split the data into three period p1: (20170329,20170409); p2: (20170410,20170419), p3: (20170420, 20170429)\n",
    "\n",
    "df_p1 = df_play_valid.filter((col('date') >= 20170329) & (col('date') < 20170409))\n",
    "df_p2 = df_play_valid.filter((col('date') >= 20170409) & (col('date') < 20170420))\n",
    "df_p3 = df_play_valid.filter((col('date') >= 20170420) & (col('date') <= 20170430))\n",
    "\n",
    "# note: df_play.select('date') is dataframe, df_play.date is column."
   ]
  },
  {
   "cell_type": "code",
   "execution_count": 31,
   "metadata": {
    "collapsed": true
   },
   "outputs": [],
   "source": [
    "# df_p1.count()\n",
    "# 50M +"
   ]
  },
  {
   "cell_type": "code",
   "execution_count": 32,
   "metadata": {},
   "outputs": [
    {
     "data": {
      "text/plain": [
       "29139947"
      ]
     },
     "execution_count": 32,
     "metadata": {},
     "output_type": "execute_result"
    }
   ],
   "source": [
    "#df_p2.count()"
   ]
  },
  {
   "cell_type": "code",
   "execution_count": 320,
   "metadata": {
    "collapsed": true
   },
   "outputs": [],
   "source": [
    "# create the pipeline for data aggreation \n",
    "def pipeline(dataframe_list):\n",
    "    output = []\n",
    "    \n",
    "    for idx, df in enumerate(dataframe_list):\n",
    "        period_tag = \"p%s\" % (idx + 1)\n",
    "        group_uid = df.groupBy(\"uid\")\n",
    "        df_agg = group_uid.agg(countDistinct('uid').alias(period_tag + '_play_freq'), \n",
    "                               countDistinct(\"song_name\").alias(period_tag + '_song_num'), \n",
    "                               sum(\"play_time\").alias(period_tag + '_play_time'), \n",
    "                               mean(df.play_time/df.song_length).alias(period_tag + '_play_perc'),\n",
    "                               countDistinct(\"singer\").alias(period_tag + '_singer_num'))\n",
    "        output.append(df_agg)\n",
    "\n",
    "    return output"
   ]
  },
  {
   "cell_type": "code",
   "execution_count": 321,
   "metadata": {
    "collapsed": true
   },
   "outputs": [],
   "source": [
    "# extract features for three periods\n",
    "df_p1_whole, df_p2_whole, df_p3_whole = pipeline([df_p1,df_p2,df_p3])"
   ]
  },
  {
   "cell_type": "code",
   "execution_count": 16,
   "metadata": {},
   "outputs": [
    {
     "data": {
      "text/plain": [
       "519737"
      ]
     },
     "execution_count": 16,
     "metadata": {},
     "output_type": "execute_result"
    }
   ],
   "source": [
    "#df_p1_whole.count()"
   ]
  },
  {
   "cell_type": "code",
   "execution_count": 67,
   "metadata": {},
   "outputs": [
    {
     "data": {
      "text/plain": [
       "270507"
      ]
     },
     "execution_count": 67,
     "metadata": {},
     "output_type": "execute_result"
    }
   ],
   "source": [
    "#df_p2_whole.count()"
   ]
  },
  {
   "cell_type": "code",
   "execution_count": 19,
   "metadata": {
    "collapsed": true
   },
   "outputs": [],
   "source": [
    "#df_p3_whole.count()"
   ]
  },
  {
   "cell_type": "code",
   "execution_count": 322,
   "metadata": {},
   "outputs": [
    {
     "data": {
      "text/plain": [
       "[('uid', 'string'),\n",
       " ('p1_play_freq', 'bigint'),\n",
       " ('p1_song_num', 'bigint'),\n",
       " ('p1_play_time', 'double'),\n",
       " ('p1_play_perc', 'double'),\n",
       " ('p1_singer_num', 'bigint')]"
      ]
     },
     "execution_count": 322,
     "metadata": {},
     "output_type": "execute_result"
    }
   ],
   "source": [
    "df_p1_whole.dtypes"
   ]
  },
  {
   "cell_type": "code",
   "execution_count": 323,
   "metadata": {
    "collapsed": true
   },
   "outputs": [],
   "source": [
    "# join all features together\n",
    "df_play_whole = df_p1_whole.join(df_p2_whole, 'uid', 'outer')"
   ]
  },
  {
   "cell_type": "code",
   "execution_count": 324,
   "metadata": {
    "collapsed": true
   },
   "outputs": [],
   "source": [
    "df_play_whole = df_play_whole.join(df_p3_whole, 'uid', 'outer')"
   ]
  },
  {
   "cell_type": "code",
   "execution_count": 325,
   "metadata": {
    "collapsed": true
   },
   "outputs": [],
   "source": [
    "df_play_whole = df_play_whole.join(df_recency, 'uid', 'left')"
   ]
  },
  {
   "cell_type": "code",
   "execution_count": 326,
   "metadata": {},
   "outputs": [],
   "source": [
    "# change the feature name\n",
    "df_play_whole = df_play_whole.withColumnRenamed(\"colName\", \"newColName\").withColumnRenamed(\"(20170501 - max(date))\", \"recency\")"
   ]
  },
  {
   "cell_type": "code",
   "execution_count": 327,
   "metadata": {},
   "outputs": [
    {
     "data": {
      "text/plain": [
       "[('uid', 'string'),\n",
       " ('p1_play_freq', 'bigint'),\n",
       " ('p1_song_num', 'bigint'),\n",
       " ('p1_play_time', 'double'),\n",
       " ('p1_play_perc', 'double'),\n",
       " ('p1_singer_num', 'bigint'),\n",
       " ('p2_play_freq', 'bigint'),\n",
       " ('p2_song_num', 'bigint'),\n",
       " ('p2_play_time', 'double'),\n",
       " ('p2_play_perc', 'double'),\n",
       " ('p2_singer_num', 'bigint'),\n",
       " ('p3_play_freq', 'bigint'),\n",
       " ('p3_song_num', 'bigint'),\n",
       " ('p3_play_time', 'double'),\n",
       " ('p3_play_perc', 'double'),\n",
       " ('p3_singer_num', 'bigint'),\n",
       " ('recency', 'int')]"
      ]
     },
     "execution_count": 327,
     "metadata": {},
     "output_type": "execute_result"
    }
   ],
   "source": [
    "df_play_whole.dtypes"
   ]
  },
  {
   "cell_type": "code",
   "execution_count": 328,
   "metadata": {
    "collapsed": true
   },
   "outputs": [],
   "source": [
    "# convert bigint to integer\n",
    "df_play_whole = df_play_whole.withColumn('p1_play_freq', df_play_whole['p1_play_freq'].cast('integer'))\n",
    "df_play_whole = df_play_whole.withColumn('p1_song_num', df_play_whole['p1_song_num'].cast('integer'))\n",
    "df_play_whole = df_play_whole.withColumn('p1_singer_num', df_play_whole['p1_singer_num'].cast('integer'))\n",
    "df_play_whole = df_play_whole.withColumn('p2_play_freq', df_play_whole['p2_play_freq'].cast('integer'))\n",
    "df_play_whole = df_play_whole.withColumn('p2_song_num', df_play_whole['p2_song_num'].cast('integer'))\n",
    "df_play_whole = df_play_whole.withColumn('p2_singer_num', df_play_whole['p2_singer_num'].cast('integer'))\n",
    "df_play_whole = df_play_whole.withColumn('p3_play_freq', df_play_whole['p3_play_freq'].cast('integer'))\n",
    "df_play_whole = df_play_whole.withColumn('p3_song_num', df_play_whole['p3_song_num'].cast('integer'))\n",
    "df_play_whole = df_play_whole.withColumn('p3_singer_num', df_play_whole['p3_singer_num'].cast('integer'))"
   ]
  },
  {
   "cell_type": "code",
   "execution_count": 329,
   "metadata": {},
   "outputs": [
    {
     "name": "stdout",
     "output_type": "stream",
     "text": [
      "root\n",
      " |-- uid: string (nullable = true)\n",
      " |-- p1_play_freq: integer (nullable = true)\n",
      " |-- p1_song_num: integer (nullable = true)\n",
      " |-- p1_play_time: double (nullable = true)\n",
      " |-- p1_play_perc: double (nullable = true)\n",
      " |-- p1_singer_num: integer (nullable = true)\n",
      " |-- p2_play_freq: integer (nullable = true)\n",
      " |-- p2_song_num: integer (nullable = true)\n",
      " |-- p2_play_time: double (nullable = true)\n",
      " |-- p2_play_perc: double (nullable = true)\n",
      " |-- p2_singer_num: integer (nullable = true)\n",
      " |-- p3_play_freq: integer (nullable = true)\n",
      " |-- p3_song_num: integer (nullable = true)\n",
      " |-- p3_play_time: double (nullable = true)\n",
      " |-- p3_play_perc: double (nullable = true)\n",
      " |-- p3_singer_num: integer (nullable = true)\n",
      " |-- recency: integer (nullable = true)\n",
      "\n"
     ]
    }
   ],
   "source": [
    "df_play_whole.printSchema()"
   ]
  },
  {
   "cell_type": "code",
   "execution_count": 51,
   "metadata": {
    "collapsed": true
   },
   "outputs": [],
   "source": [
    "# df_play_whole.count() # 567K+"
   ]
  },
  {
   "cell_type": "markdown",
   "metadata": {},
   "source": [
    "Therefore, after dropping outliers and aggregation, we now have 567k rows of data."
   ]
  },
  {
   "cell_type": "markdown",
   "metadata": {},
   "source": [
    "### Features from Download Dataset"
   ]
  },
  {
   "cell_type": "code",
   "execution_count": 331,
   "metadata": {
    "collapsed": true
   },
   "outputs": [],
   "source": [
    "# split into three periods\n",
    "df_down_p1 = df_down.filter((col('date') >= 20170329) & (col('date') < 20170409))\n",
    "df_down_p2 = df_down.filter((col('date') >= 20170409) & (col('date') < 20170420))\n",
    "df_down_p3 = df_down.filter((col('date') >= 20170420) & (col('date') <= 20170430))"
   ]
  },
  {
   "cell_type": "code",
   "execution_count": 332,
   "metadata": {
    "collapsed": true
   },
   "outputs": [],
   "source": [
    "# create features\n",
    "def down_pipeline(dataframe_list):\n",
    "    output = []\n",
    "    \n",
    "    for idx, df in enumerate(dataframe_list):\n",
    "        period_tag = \"p%s\" % (idx + 1)\n",
    "        group_uid = df.groupBy(\"uid\")\n",
    "        df_agg = group_uid.agg(countDistinct('uid').alias(period_tag + '_down_freq'))\n",
    "        output.append(df_agg)\n",
    "\n",
    "    return output"
   ]
  },
  {
   "cell_type": "code",
   "execution_count": 333,
   "metadata": {
    "collapsed": true
   },
   "outputs": [],
   "source": [
    "# extract features for three periods\n",
    "down_p1, down_p2, down_p3 = down_pipeline([df_down_p1, df_down_p1, df_down_p1])"
   ]
  },
  {
   "cell_type": "code",
   "execution_count": 334,
   "metadata": {},
   "outputs": [
    {
     "name": "stdout",
     "output_type": "stream",
     "text": [
      "+---------+------------+\n",
      "|      uid|p1_down_freq|\n",
      "+---------+------------+\n",
      "|167586784|           1|\n",
      "|167654139|           1|\n",
      "|166454870|           1|\n",
      "|167706312|           1|\n",
      "|167890834|           1|\n",
      "|167841519|           1|\n",
      "|167903143|           1|\n",
      "|167953403|           1|\n",
      "|167723994|           1|\n",
      "|167950920|           1|\n",
      "|167701571|           1|\n",
      "|167754291|           1|\n",
      "|167736662|           1|\n",
      "|167723630|           1|\n",
      "|167864822|           1|\n",
      "|167818843|           1|\n",
      "|167708458|           1|\n",
      "|159375694|           1|\n",
      "|167720746|           1|\n",
      "|167985660|           1|\n",
      "+---------+------------+\n",
      "only showing top 20 rows\n",
      "\n"
     ]
    }
   ],
   "source": [
    "down_p1.show()"
   ]
  },
  {
   "cell_type": "markdown",
   "metadata": {},
   "source": [
    "### Combine features in play and download dataset"
   ]
  },
  {
   "cell_type": "code",
   "execution_count": 335,
   "metadata": {
    "collapsed": true
   },
   "outputs": [],
   "source": [
    "df_play_whole = df_play_whole.join(down_p1, 'uid', 'left')\n",
    "df_play_whole = df_play_whole.join(down_p2, 'uid', 'left')\n",
    "df_play_whole = df_play_whole.join(down_p3, 'uid', 'left')"
   ]
  },
  {
   "cell_type": "code",
   "execution_count": 336,
   "metadata": {
    "collapsed": true
   },
   "outputs": [],
   "source": [
    "# Since we use outer and left joins for the datasets, Nulls means no record for this period, so fill Nulls to 0\n",
    "df_play_whole = df_play_whole.na.fill(0)"
   ]
  },
  {
   "cell_type": "code",
   "execution_count": 337,
   "metadata": {},
   "outputs": [
    {
     "name": "stdout",
     "output_type": "stream",
     "text": [
      "root\n",
      " |-- uid: string (nullable = true)\n",
      " |-- p1_play_freq: integer (nullable = true)\n",
      " |-- p1_song_num: integer (nullable = true)\n",
      " |-- p1_play_time: double (nullable = false)\n",
      " |-- p1_play_perc: double (nullable = false)\n",
      " |-- p1_singer_num: integer (nullable = true)\n",
      " |-- p2_play_freq: integer (nullable = true)\n",
      " |-- p2_song_num: integer (nullable = true)\n",
      " |-- p2_play_time: double (nullable = false)\n",
      " |-- p2_play_perc: double (nullable = false)\n",
      " |-- p2_singer_num: integer (nullable = true)\n",
      " |-- p3_play_freq: integer (nullable = true)\n",
      " |-- p3_song_num: integer (nullable = true)\n",
      " |-- p3_play_time: double (nullable = false)\n",
      " |-- p3_play_perc: double (nullable = false)\n",
      " |-- p3_singer_num: integer (nullable = true)\n",
      " |-- recency: integer (nullable = true)\n",
      " |-- p1_down_freq: long (nullable = true)\n",
      " |-- p2_down_freq: long (nullable = true)\n",
      " |-- p3_down_freq: long (nullable = true)\n",
      "\n"
     ]
    }
   ],
   "source": [
    "df_play_whole.printSchema()"
   ]
  },
  {
   "cell_type": "markdown",
   "metadata": {},
   "source": [
    "## Prepare target variable: Churn"
   ]
  },
  {
   "cell_type": "markdown",
   "metadata": {},
   "source": [
    "We define that if the user does not play in the last window (2017 May 1st to 2017 May 12th), so the user churns."
   ]
  },
  {
   "cell_type": "code",
   "execution_count": 34,
   "metadata": {
    "collapsed": true
   },
   "outputs": [],
   "source": [
    "df_target = df_play_valid.filter((col('date') >= 20170501) & (col('date') <= 20170512))"
   ]
  },
  {
   "cell_type": "code",
   "execution_count": 36,
   "metadata": {
    "collapsed": true
   },
   "outputs": [],
   "source": [
    "# create ply_freq in the last windows\n",
    "df_target_agg = df_target\\\n",
    "                .groupBy('uid')\\\n",
    "                .agg(count('uid').alias('target_play_freq'))"
   ]
  },
  {
   "cell_type": "code",
   "execution_count": 37,
   "metadata": {},
   "outputs": [
    {
     "name": "stdout",
     "output_type": "stream",
     "text": [
      "root\n",
      " |-- uid: string (nullable = true)\n",
      " |-- target_play_freq: long (nullable = false)\n",
      "\n"
     ]
    }
   ],
   "source": [
    "df_target_agg.printSchema()"
   ]
  },
  {
   "cell_type": "code",
   "execution_count": 59,
   "metadata": {},
   "outputs": [
    {
     "name": "stdout",
     "output_type": "stream",
     "text": [
      "+---------+----------------+\n",
      "|      uid|target_play_freq|\n",
      "+---------+----------------+\n",
      "|167581568|             267|\n",
      "|167833570|             461|\n",
      "|167935507|             236|\n",
      "|167575253|             205|\n",
      "|167635050|             738|\n",
      "|167677985|               7|\n",
      "|167776719|             395|\n",
      "|167571223|             319|\n",
      "|167672887|             145|\n",
      "|167883821|             528|\n",
      "|167774834|              74|\n",
      "|167825503|             103|\n",
      "|167651431|             721|\n",
      "|167907641|              48|\n",
      "|167638754|             140|\n",
      "|167794834|             511|\n",
      "|167772496|             266|\n",
      "|168013238|               5|\n",
      "|167779083|              13|\n",
      "|167756692|              18|\n",
      "+---------+----------------+\n",
      "only showing top 20 rows\n",
      "\n"
     ]
    }
   ],
   "source": [
    "#df_target_agg.show()"
   ]
  },
  {
   "cell_type": "code",
   "execution_count": 38,
   "metadata": {
    "collapsed": true
   },
   "outputs": [],
   "source": [
    "# get target variable churn (churn means play_frec = 0)\n",
    "# 1 means churn, 0 means not churn\n",
    "df_target_agg = df_target_agg.withColumn(\"churn\", when(col('target_play_freq')>0, 0).otherwise(1))"
   ]
  },
  {
   "cell_type": "code",
   "execution_count": 87,
   "metadata": {},
   "outputs": [
    {
     "name": "stdout",
     "output_type": "stream",
     "text": [
      "+---------+----------------+-----+\n",
      "|      uid|target_play_freq|churn|\n",
      "+---------+----------------+-----+\n",
      "|168028443|             134|    0|\n",
      "|167759265|              57|    0|\n",
      "|167810312|             467|    0|\n",
      "|167963866|              48|    0|\n",
      "|168034652|             230|    0|\n",
      "|167935507|             236|    0|\n",
      "|167635050|             738|    0|\n",
      "|167795994|             191|    0|\n",
      "|167640944|              35|    0|\n",
      "|167699178|              77|    0|\n",
      "|167708318|             222|    0|\n",
      "|167781195|             217|    0|\n",
      "|167779083|              13|    0|\n",
      "|167963608|              48|    0|\n",
      "|167595851|              26|    0|\n",
      "|167571223|             319|    0|\n",
      "|167969162|             335|    0|\n",
      "|167637640|              19|    0|\n",
      "|167877570|              74|    0|\n",
      "|167936958|              31|    0|\n",
      "+---------+----------------+-----+\n",
      "only showing top 20 rows\n",
      "\n"
     ]
    }
   ],
   "source": [
    "#df_target_agg.show()"
   ]
  },
  {
   "cell_type": "code",
   "execution_count": 39,
   "metadata": {
    "collapsed": true
   },
   "outputs": [],
   "source": [
    "df_label = df_target_agg.drop('target_play_freq')"
   ]
  },
  {
   "cell_type": "code",
   "execution_count": 40,
   "metadata": {},
   "outputs": [
    {
     "name": "stdout",
     "output_type": "stream",
     "text": [
      "root\n",
      " |-- uid: string (nullable = true)\n",
      " |-- churn: integer (nullable = false)\n",
      "\n"
     ]
    }
   ],
   "source": [
    "df_label.printSchema()"
   ]
  },
  {
   "cell_type": "markdown",
   "metadata": {},
   "source": [
    "## Combine input features and target variable"
   ]
  },
  {
   "cell_type": "code",
   "execution_count": 338,
   "metadata": {
    "collapsed": true
   },
   "outputs": [],
   "source": [
    "# add churn label to the df_play_whole dataset\n",
    "df_play_whole = df_play_whole.join(df_label, 'uid', 'left')"
   ]
  },
  {
   "cell_type": "code",
   "execution_count": 340,
   "metadata": {
    "collapsed": true
   },
   "outputs": [],
   "source": [
    "# deal with Null: no records in df_target, which means the users churn, so fill all Nulls to be 1\n",
    "df_play_whole = df_play_whole.na.fill(1)"
   ]
  },
  {
   "cell_type": "code",
   "execution_count": 423,
   "metadata": {},
   "outputs": [
    {
     "name": "stdout",
     "output_type": "stream",
     "text": [
      "root\n",
      " |-- uid: string (nullable = true)\n",
      " |-- p1_play_freq: integer (nullable = true)\n",
      " |-- p1_song_num: integer (nullable = true)\n",
      " |-- p1_play_time: double (nullable = false)\n",
      " |-- p1_play_perc: double (nullable = false)\n",
      " |-- p1_singer_num: integer (nullable = true)\n",
      " |-- p2_play_freq: integer (nullable = true)\n",
      " |-- p2_song_num: integer (nullable = true)\n",
      " |-- p2_play_time: double (nullable = false)\n",
      " |-- p2_play_perc: double (nullable = false)\n",
      " |-- p2_singer_num: integer (nullable = true)\n",
      " |-- p3_play_freq: integer (nullable = true)\n",
      " |-- p3_song_num: integer (nullable = true)\n",
      " |-- p3_play_time: double (nullable = false)\n",
      " |-- p3_play_perc: double (nullable = false)\n",
      " |-- p3_singer_num: integer (nullable = true)\n",
      " |-- recency: integer (nullable = true)\n",
      " |-- p1_down_freq: long (nullable = true)\n",
      " |-- p2_down_freq: long (nullable = true)\n",
      " |-- p3_down_freq: long (nullable = true)\n",
      " |-- churn: integer (nullable = true)\n",
      "\n"
     ]
    }
   ],
   "source": [
    "df_play_whole.printSchema()"
   ]
  },
  {
   "cell_type": "code",
   "execution_count": 341,
   "metadata": {
    "collapsed": true
   },
   "outputs": [],
   "source": [
    "# transfer to pandas\n",
    "dataset = df_play_whole.toPandas()"
   ]
  },
  {
   "cell_type": "code",
   "execution_count": 342,
   "metadata": {},
   "outputs": [
    {
     "data": {
      "text/html": [
       "<div>\n",
       "<style scoped>\n",
       "    .dataframe tbody tr th:only-of-type {\n",
       "        vertical-align: middle;\n",
       "    }\n",
       "\n",
       "    .dataframe tbody tr th {\n",
       "        vertical-align: top;\n",
       "    }\n",
       "\n",
       "    .dataframe thead th {\n",
       "        text-align: right;\n",
       "    }\n",
       "</style>\n",
       "<table border=\"1\" class=\"dataframe\">\n",
       "  <thead>\n",
       "    <tr style=\"text-align: right;\">\n",
       "      <th></th>\n",
       "      <th>uid</th>\n",
       "      <th>p1_play_freq</th>\n",
       "      <th>p1_song_num</th>\n",
       "      <th>p1_play_time</th>\n",
       "      <th>p1_play_perc</th>\n",
       "      <th>p1_singer_num</th>\n",
       "      <th>p2_play_freq</th>\n",
       "      <th>p2_song_num</th>\n",
       "      <th>p2_play_time</th>\n",
       "      <th>p2_play_perc</th>\n",
       "      <th>...</th>\n",
       "      <th>p3_play_freq</th>\n",
       "      <th>p3_song_num</th>\n",
       "      <th>p3_play_time</th>\n",
       "      <th>p3_play_perc</th>\n",
       "      <th>p3_singer_num</th>\n",
       "      <th>recency</th>\n",
       "      <th>p1_down_freq</th>\n",
       "      <th>p2_down_freq</th>\n",
       "      <th>p3_down_freq</th>\n",
       "      <th>churn</th>\n",
       "    </tr>\n",
       "  </thead>\n",
       "  <tbody>\n",
       "    <tr>\n",
       "      <th>0</th>\n",
       "      <td>104777734</td>\n",
       "      <td>1</td>\n",
       "      <td>3</td>\n",
       "      <td>37.0</td>\n",
       "      <td>0.037255</td>\n",
       "      <td>3</td>\n",
       "      <td>0</td>\n",
       "      <td>0</td>\n",
       "      <td>0.0</td>\n",
       "      <td>0.000000</td>\n",
       "      <td>...</td>\n",
       "      <td>0</td>\n",
       "      <td>0</td>\n",
       "      <td>0.0</td>\n",
       "      <td>0.000000</td>\n",
       "      <td>0</td>\n",
       "      <td>170</td>\n",
       "      <td>0</td>\n",
       "      <td>0</td>\n",
       "      <td>0</td>\n",
       "      <td>1</td>\n",
       "    </tr>\n",
       "    <tr>\n",
       "      <th>1</th>\n",
       "      <td>110367079</td>\n",
       "      <td>1</td>\n",
       "      <td>1</td>\n",
       "      <td>160.0</td>\n",
       "      <td>0.563380</td>\n",
       "      <td>1</td>\n",
       "      <td>0</td>\n",
       "      <td>0</td>\n",
       "      <td>0.0</td>\n",
       "      <td>0.000000</td>\n",
       "      <td>...</td>\n",
       "      <td>0</td>\n",
       "      <td>0</td>\n",
       "      <td>0.0</td>\n",
       "      <td>0.000000</td>\n",
       "      <td>0</td>\n",
       "      <td>172</td>\n",
       "      <td>0</td>\n",
       "      <td>0</td>\n",
       "      <td>0</td>\n",
       "      <td>0</td>\n",
       "    </tr>\n",
       "    <tr>\n",
       "      <th>2</th>\n",
       "      <td>11596711</td>\n",
       "      <td>1</td>\n",
       "      <td>10</td>\n",
       "      <td>1758.0</td>\n",
       "      <td>0.490999</td>\n",
       "      <td>10</td>\n",
       "      <td>1</td>\n",
       "      <td>52</td>\n",
       "      <td>3829.0</td>\n",
       "      <td>0.307587</td>\n",
       "      <td>...</td>\n",
       "      <td>1</td>\n",
       "      <td>12</td>\n",
       "      <td>5889.0</td>\n",
       "      <td>0.565025</td>\n",
       "      <td>7</td>\n",
       "      <td>73</td>\n",
       "      <td>0</td>\n",
       "      <td>0</td>\n",
       "      <td>0</td>\n",
       "      <td>0</td>\n",
       "    </tr>\n",
       "    <tr>\n",
       "      <th>3</th>\n",
       "      <td>117677098</td>\n",
       "      <td>1</td>\n",
       "      <td>35</td>\n",
       "      <td>20136.0</td>\n",
       "      <td>0.707115</td>\n",
       "      <td>30</td>\n",
       "      <td>1</td>\n",
       "      <td>33</td>\n",
       "      <td>10811.0</td>\n",
       "      <td>0.426957</td>\n",
       "      <td>...</td>\n",
       "      <td>1</td>\n",
       "      <td>23</td>\n",
       "      <td>8741.0</td>\n",
       "      <td>0.672038</td>\n",
       "      <td>23</td>\n",
       "      <td>71</td>\n",
       "      <td>1</td>\n",
       "      <td>1</td>\n",
       "      <td>1</td>\n",
       "      <td>0</td>\n",
       "    </tr>\n",
       "    <tr>\n",
       "      <th>4</th>\n",
       "      <td>118301183</td>\n",
       "      <td>1</td>\n",
       "      <td>9</td>\n",
       "      <td>611.0</td>\n",
       "      <td>0.225863</td>\n",
       "      <td>9</td>\n",
       "      <td>0</td>\n",
       "      <td>0</td>\n",
       "      <td>0.0</td>\n",
       "      <td>0.000000</td>\n",
       "      <td>...</td>\n",
       "      <td>0</td>\n",
       "      <td>0</td>\n",
       "      <td>0.0</td>\n",
       "      <td>0.000000</td>\n",
       "      <td>0</td>\n",
       "      <td>100</td>\n",
       "      <td>0</td>\n",
       "      <td>0</td>\n",
       "      <td>0</td>\n",
       "      <td>1</td>\n",
       "    </tr>\n",
       "    <tr>\n",
       "      <th>5</th>\n",
       "      <td>120180992</td>\n",
       "      <td>1</td>\n",
       "      <td>25</td>\n",
       "      <td>21067.0</td>\n",
       "      <td>0.657256</td>\n",
       "      <td>14</td>\n",
       "      <td>1</td>\n",
       "      <td>15</td>\n",
       "      <td>11546.0</td>\n",
       "      <td>0.686217</td>\n",
       "      <td>...</td>\n",
       "      <td>0</td>\n",
       "      <td>0</td>\n",
       "      <td>0.0</td>\n",
       "      <td>0.000000</td>\n",
       "      <td>0</td>\n",
       "      <td>85</td>\n",
       "      <td>0</td>\n",
       "      <td>0</td>\n",
       "      <td>0</td>\n",
       "      <td>1</td>\n",
       "    </tr>\n",
       "    <tr>\n",
       "      <th>6</th>\n",
       "      <td>126941437</td>\n",
       "      <td>1</td>\n",
       "      <td>150</td>\n",
       "      <td>41488.0</td>\n",
       "      <td>0.549926</td>\n",
       "      <td>103</td>\n",
       "      <td>1</td>\n",
       "      <td>2</td>\n",
       "      <td>1701.0</td>\n",
       "      <td>0.814799</td>\n",
       "      <td>...</td>\n",
       "      <td>1</td>\n",
       "      <td>15</td>\n",
       "      <td>2326.0</td>\n",
       "      <td>0.514127</td>\n",
       "      <td>13</td>\n",
       "      <td>76</td>\n",
       "      <td>0</td>\n",
       "      <td>0</td>\n",
       "      <td>0</td>\n",
       "      <td>1</td>\n",
       "    </tr>\n",
       "    <tr>\n",
       "      <th>7</th>\n",
       "      <td>128106175</td>\n",
       "      <td>1</td>\n",
       "      <td>59</td>\n",
       "      <td>43154.0</td>\n",
       "      <td>0.904663</td>\n",
       "      <td>44</td>\n",
       "      <td>0</td>\n",
       "      <td>0</td>\n",
       "      <td>0.0</td>\n",
       "      <td>0.000000</td>\n",
       "      <td>...</td>\n",
       "      <td>0</td>\n",
       "      <td>0</td>\n",
       "      <td>0.0</td>\n",
       "      <td>0.000000</td>\n",
       "      <td>0</td>\n",
       "      <td>170</td>\n",
       "      <td>0</td>\n",
       "      <td>0</td>\n",
       "      <td>0</td>\n",
       "      <td>1</td>\n",
       "    </tr>\n",
       "    <tr>\n",
       "      <th>8</th>\n",
       "      <td>128119706</td>\n",
       "      <td>0</td>\n",
       "      <td>0</td>\n",
       "      <td>0.0</td>\n",
       "      <td>0.000000</td>\n",
       "      <td>0</td>\n",
       "      <td>1</td>\n",
       "      <td>94</td>\n",
       "      <td>29094.0</td>\n",
       "      <td>0.494247</td>\n",
       "      <td>...</td>\n",
       "      <td>1</td>\n",
       "      <td>49</td>\n",
       "      <td>6235.0</td>\n",
       "      <td>0.368115</td>\n",
       "      <td>39</td>\n",
       "      <td>73</td>\n",
       "      <td>0</td>\n",
       "      <td>0</td>\n",
       "      <td>0</td>\n",
       "      <td>0</td>\n",
       "    </tr>\n",
       "    <tr>\n",
       "      <th>9</th>\n",
       "      <td>129766230</td>\n",
       "      <td>1</td>\n",
       "      <td>125</td>\n",
       "      <td>74635.0</td>\n",
       "      <td>0.626447</td>\n",
       "      <td>95</td>\n",
       "      <td>1</td>\n",
       "      <td>113</td>\n",
       "      <td>94613.0</td>\n",
       "      <td>0.921745</td>\n",
       "      <td>...</td>\n",
       "      <td>1</td>\n",
       "      <td>200</td>\n",
       "      <td>66754.0</td>\n",
       "      <td>0.577038</td>\n",
       "      <td>153</td>\n",
       "      <td>71</td>\n",
       "      <td>0</td>\n",
       "      <td>0</td>\n",
       "      <td>0</td>\n",
       "      <td>0</td>\n",
       "    </tr>\n",
       "  </tbody>\n",
       "</table>\n",
       "<p>10 rows × 21 columns</p>\n",
       "</div>"
      ],
      "text/plain": [
       "         uid  p1_play_freq  p1_song_num  p1_play_time  p1_play_perc  \\\n",
       "0  104777734             1            3          37.0      0.037255   \n",
       "1  110367079             1            1         160.0      0.563380   \n",
       "2   11596711             1           10        1758.0      0.490999   \n",
       "3  117677098             1           35       20136.0      0.707115   \n",
       "4  118301183             1            9         611.0      0.225863   \n",
       "5  120180992             1           25       21067.0      0.657256   \n",
       "6  126941437             1          150       41488.0      0.549926   \n",
       "7  128106175             1           59       43154.0      0.904663   \n",
       "8  128119706             0            0           0.0      0.000000   \n",
       "9  129766230             1          125       74635.0      0.626447   \n",
       "\n",
       "   p1_singer_num  p2_play_freq  p2_song_num  p2_play_time  p2_play_perc  \\\n",
       "0              3             0            0           0.0      0.000000   \n",
       "1              1             0            0           0.0      0.000000   \n",
       "2             10             1           52        3829.0      0.307587   \n",
       "3             30             1           33       10811.0      0.426957   \n",
       "4              9             0            0           0.0      0.000000   \n",
       "5             14             1           15       11546.0      0.686217   \n",
       "6            103             1            2        1701.0      0.814799   \n",
       "7             44             0            0           0.0      0.000000   \n",
       "8              0             1           94       29094.0      0.494247   \n",
       "9             95             1          113       94613.0      0.921745   \n",
       "\n",
       "   ...    p3_play_freq  p3_song_num  p3_play_time  p3_play_perc  \\\n",
       "0  ...               0            0           0.0      0.000000   \n",
       "1  ...               0            0           0.0      0.000000   \n",
       "2  ...               1           12        5889.0      0.565025   \n",
       "3  ...               1           23        8741.0      0.672038   \n",
       "4  ...               0            0           0.0      0.000000   \n",
       "5  ...               0            0           0.0      0.000000   \n",
       "6  ...               1           15        2326.0      0.514127   \n",
       "7  ...               0            0           0.0      0.000000   \n",
       "8  ...               1           49        6235.0      0.368115   \n",
       "9  ...               1          200       66754.0      0.577038   \n",
       "\n",
       "   p3_singer_num  recency  p1_down_freq  p2_down_freq  p3_down_freq  churn  \n",
       "0              0      170             0             0             0      1  \n",
       "1              0      172             0             0             0      0  \n",
       "2              7       73             0             0             0      0  \n",
       "3             23       71             1             1             1      0  \n",
       "4              0      100             0             0             0      1  \n",
       "5              0       85             0             0             0      1  \n",
       "6             13       76             0             0             0      1  \n",
       "7              0      170             0             0             0      1  \n",
       "8             39       73             0             0             0      0  \n",
       "9            153       71             0             0             0      0  \n",
       "\n",
       "[10 rows x 21 columns]"
      ]
     },
     "execution_count": 342,
     "metadata": {},
     "output_type": "execute_result"
    }
   ],
   "source": [
    "# check the prepared dataset\n",
    "dataset.head(10)"
   ]
  },
  {
   "cell_type": "code",
   "execution_count": 343,
   "metadata": {},
   "outputs": [
    {
     "data": {
      "text/plain": [
       "(570101, 21)"
      ]
     },
     "execution_count": 343,
     "metadata": {},
     "output_type": "execute_result"
    }
   ],
   "source": [
    "dataset.shape"
   ]
  },
  {
   "cell_type": "code",
   "execution_count": 344,
   "metadata": {},
   "outputs": [
    {
     "data": {
      "text/plain": [
       "1    373389\n",
       "0    196712\n",
       "Name: churn, dtype: int64"
      ]
     },
     "execution_count": 344,
     "metadata": {},
     "output_type": "execute_result"
    }
   ],
   "source": [
    "dataset['churn'].value_counts()"
   ]
  },
  {
   "cell_type": "code",
   "execution_count": 345,
   "metadata": {},
   "outputs": [
    {
     "data": {
      "text/plain": [
       "0.65495236808916313"
      ]
     },
     "execution_count": 345,
     "metadata": {},
     "output_type": "execute_result"
    }
   ],
   "source": [
    "# churn rate\n",
    "churn_rate = dataset['churn'].value_counts()[1]/(dataset['churn'].value_counts()[0]+dataset['churn'].value_counts()[1])\n",
    "churn_rate"
   ]
  },
  {
   "cell_type": "markdown",
   "metadata": {},
   "source": [
    "There, there are about 65% of the users churn."
   ]
  },
  {
   "cell_type": "code",
   "execution_count": 363,
   "metadata": {
    "collapsed": true
   },
   "outputs": [],
   "source": [
    "# write into csv\n",
    "# dataset.to_csv('pre_dataset.csv') "
   ]
  },
  {
   "cell_type": "code",
   "execution_count": 366,
   "metadata": {
    "collapsed": true
   },
   "outputs": [],
   "source": [
    "# read the data\n",
    "#dataset = pd.read_csv('pre_dataset.csv') # 1 means churn, 0 means not churn"
   ]
  },
  {
   "cell_type": "code",
   "execution_count": 368,
   "metadata": {},
   "outputs": [
    {
     "data": {
      "text/plain": [
       "Unnamed: 0       570101\n",
       "uid              570101\n",
       "p1_play_freq     570101\n",
       "p1_song_num      570101\n",
       "p1_play_time     570101\n",
       "p1_play_perc     570101\n",
       "p1_singer_num    570101\n",
       "p2_play_freq     570101\n",
       "p2_song_num      570101\n",
       "p2_play_time     570101\n",
       "p2_play_perc     570101\n",
       "p2_singer_num    570101\n",
       "p3_play_freq     570101\n",
       "p3_song_num      570101\n",
       "p3_play_time     570101\n",
       "p3_play_perc     570101\n",
       "p3_singer_num    570101\n",
       "recency          570101\n",
       "p1_down_freq     570101\n",
       "p2_down_freq     570101\n",
       "p3_down_freq     570101\n",
       "churn            570101\n",
       "dtype: int64"
      ]
     },
     "execution_count": 368,
     "metadata": {},
     "output_type": "execute_result"
    }
   ],
   "source": [
    "dataset.count()"
   ]
  },
  {
   "cell_type": "markdown",
   "metadata": {},
   "source": [
    "# Train the model"
   ]
  },
  {
   "cell_type": "markdown",
   "metadata": {},
   "source": [
    "## Logistic Regression"
   ]
  },
  {
   "cell_type": "markdown",
   "metadata": {},
   "source": [
    "### Define features and target"
   ]
  },
  {
   "cell_type": "code",
   "execution_count": 376,
   "metadata": {
    "collapsed": true
   },
   "outputs": [],
   "source": [
    "selected_features =  [u'p1_play_freq', u'p1_song_num', u'p1_play_time', u'p1_play_perc',u'p1_down_freq',\n",
    "            u'p2_play_freq', u'p2_song_num', u'p2_play_time', u'p2_play_perc',u'p2_down_freq',\n",
    "            u'p3_play_freq', u'p3_song_num', u'p3_play_time', u'p3_play_perc',u'p3_down_freq',u'recency']\n",
    "target = u'churn'"
   ]
  },
  {
   "cell_type": "code",
   "execution_count": 377,
   "metadata": {},
   "outputs": [],
   "source": [
    "X = dataset[selected_features].values  #get values of these features\n",
    "y = dataset['churn'].values            #get target value"
   ]
  },
  {
   "cell_type": "markdown",
   "metadata": {},
   "source": [
    "### Normalize dataset"
   ]
  },
  {
   "cell_type": "code",
   "execution_count": 378,
   "metadata": {},
   "outputs": [],
   "source": [
    "# since features are in different scales, it is important to scale them\n",
    "X_scaled = preprocessing.scale(X)"
   ]
  },
  {
   "cell_type": "code",
   "execution_count": 379,
   "metadata": {},
   "outputs": [
    {
     "data": {
      "text/plain": [
       "array([[  3.02599037e-01,  -1.65091417e-01,   1.47073233e-03, ...,\n",
       "          3.99437179e-03,  -6.93220692e-01,   1.60785894e+00],\n",
       "       [  3.02599037e-01,  -1.79057532e-01,   1.47163483e-03, ...,\n",
       "          3.99437179e-03,  -6.93220692e-01,   1.65800686e+00],\n",
       "       [  3.02599037e-01,  -1.16210014e-01,   1.48336000e-03, ...,\n",
       "          8.27531787e-03,  -6.93220692e-01,  -8.24315629e-01],\n",
       "       ..., \n",
       "       [  3.02599037e-01,  -1.79057532e-01,   1.47739469e-03, ...,\n",
       "          1.95891284e-02,  -6.93220692e-01,  -7.74167700e-01],\n",
       "       [  3.02599037e-01,   5.83664270e-02,   1.47238325e-03, ...,\n",
       "          1.10106896e-02,  -6.93220692e-01,  -7.74167700e-01],\n",
       "       [  3.02599037e-01,  -1.79057532e-01,   1.47200904e-03, ...,\n",
       "          9.02084399e-03,   1.44254205e+00,  -8.24315629e-01]])"
      ]
     },
     "execution_count": 379,
     "metadata": {},
     "output_type": "execute_result"
    }
   ],
   "source": [
    "X_scaled"
   ]
  },
  {
   "cell_type": "markdown",
   "metadata": {},
   "source": [
    "### Split train and test dataset"
   ]
  },
  {
   "cell_type": "code",
   "execution_count": 380,
   "metadata": {},
   "outputs": [],
   "source": [
    "X_train, X_test, y_train, y_test = train_test_split(X_scaled, y, test_size=0.2, random_state=12)"
   ]
  },
  {
   "cell_type": "code",
   "execution_count": 381,
   "metadata": {},
   "outputs": [
    {
     "data": {
      "text/plain": [
       "((456080, 16), (114021, 16), (456080,), (114021,))"
      ]
     },
     "execution_count": 381,
     "metadata": {},
     "output_type": "execute_result"
    }
   ],
   "source": [
    "X_train.shape, X_test.shape, y_train.shape, y_test.shape"
   ]
  },
  {
   "cell_type": "code",
   "execution_count": 382,
   "metadata": {},
   "outputs": [
    {
     "data": {
      "text/plain": [
       "(array([0, 1, 1, ..., 1, 0, 1]), array([0, 0, 0, ..., 1, 0, 0]))"
      ]
     },
     "execution_count": 382,
     "metadata": {},
     "output_type": "execute_result"
    }
   ],
   "source": [
    "y_train,y_test"
   ]
  },
  {
   "cell_type": "markdown",
   "metadata": {},
   "source": [
    "### Train the model"
   ]
  },
  {
   "cell_type": "code",
   "execution_count": 384,
   "metadata": {
    "collapsed": true
   },
   "outputs": [],
   "source": [
    "# Initialize model by providing parameters\n",
    "lr = LogisticRegression(C=100000, fit_intercept=True)     #set C be very big to turn off regulization\n",
    "\n",
    "# Fit a model by providing X and y from training set\n",
    "lr.fit(X_train, y_train)\n",
    "\n",
    "# Make prediction on the training data\n",
    "y_train_log = lr.predict(X_train)\n",
    "\n",
    "# Make predictions on test data\n",
    "y_test_log = lr.predict(X_test)"
   ]
  },
  {
   "cell_type": "markdown",
   "metadata": {},
   "source": [
    "### Calculate metric scores"
   ]
  },
  {
   "cell_type": "code",
   "execution_count": 410,
   "metadata": {
    "collapsed": true
   },
   "outputs": [],
   "source": [
    "def print_results(y_true, y_pred):\n",
    "    print(\"Accuracy of the model is: {}\".format(accuracy_score(y_true, y_pred)))\n",
    "    print(\"Precision of the model is: {}\".format(precision_score(y_true, y_pred)))\n",
    "    print(\"Recall of the model is: {}\".format(recall_score(y_true, y_pred)))\n",
    "    print(\"f1-score of the model is: {}\".format(f1_score(y_true, y_pred)))"
   ]
  },
  {
   "cell_type": "code",
   "execution_count": 387,
   "metadata": {},
   "outputs": [
    {
     "name": "stdout",
     "output_type": "stream",
     "text": [
      "Training set scores:\n",
      "Accuracy of the Logistic Regression is: 0.8287515348184529\n",
      "Precision of the Logistic Regression is: 0.8695601204452051\n",
      "Recall of the Logistic Regression is: 0.8689343784934432\n",
      "f1-score of the Logistic Regression is: 0.8692471368566612\n"
     ]
    }
   ],
   "source": [
    "print(\"Training set scores:\")\n",
    "print_results(y_train, y_train_log)"
   ]
  },
  {
   "cell_type": "code",
   "execution_count": 391,
   "metadata": {},
   "outputs": [
    {
     "name": "stdout",
     "output_type": "stream",
     "text": [
      "Test set scores:\n",
      "Accuracy of the Logistic Regression is: 0.8281193815174398\n",
      "Precision of the Logistic Regression is: 0.8698621848739496\n",
      "Recall of the Logistic Regression is: 0.8670642632178517\n",
      "f1-score of the Logistic Regression is: 0.8684609705349352\n"
     ]
    }
   ],
   "source": [
    "print(\"Test set scores:\")\n",
    "print_results(y_test, y_test_log)"
   ]
  },
  {
   "cell_type": "code",
   "execution_count": 393,
   "metadata": {},
   "outputs": [
    {
     "name": "stdout",
     "output_type": "stream",
     "text": [
      "AUC for train set is: 0.8106829724972014\n"
     ]
    }
   ],
   "source": [
    "print(\"AUC for train set is: {}\".format(roc_auc_score(y_train, y_train_log)))"
   ]
  },
  {
   "cell_type": "code",
   "execution_count": 392,
   "metadata": {},
   "outputs": [
    {
     "name": "stdout",
     "output_type": "stream",
     "text": [
      "AUC for test set is: 0.8107208845907052\n"
     ]
    }
   ],
   "source": [
    "print(\"AUC for test set is: {}\".format(roc_auc_score(y_test, y_test_log)))"
   ]
  },
  {
   "cell_type": "code",
   "execution_count": 394,
   "metadata": {},
   "outputs": [],
   "source": [
    "# Make predictions of the probability to be \"positive\"/\"churn\"/\"1\", as compared to \"negative\"/\"not churn\"/\"0\"\n",
    "y_test_log_proba = lr.predict_proba(X_test)[:,1]"
   ]
  },
  {
   "cell_type": "code",
   "execution_count": 395,
   "metadata": {},
   "outputs": [],
   "source": [
    "fpr, tpr, thresholds = roc_curve(y_test, y_test_log_proba)"
   ]
  },
  {
   "cell_type": "code",
   "execution_count": 396,
   "metadata": {},
   "outputs": [
    {
     "data": {
      "image/png": "[encoded data removed]",
      "text/plain": [
       "<matplotlib.figure.Figure at 0x7f6119ebf320>"
      ]
     },
     "metadata": {},
     "output_type": "display_data"
    }
   ],
   "source": [
    "# plot ROC\n",
    "plt.plot(fpr, tpr, color='red')\n",
    "\n",
    "plt.xlabel(\"False Positive Rate\")\n",
    "plt.ylabel(\"True Positive Rate\")\n",
    "plt.title(\"ROC\")\n",
    "\n",
    "plt.show()"
   ]
  },
  {
   "cell_type": "markdown",
   "metadata": {},
   "source": [
    "## XGBoosting"
   ]
  },
  {
   "cell_type": "markdown",
   "metadata": {},
   "source": [
    "### Train the model"
   ]
  },
  {
   "cell_type": "code",
   "execution_count": null,
   "metadata": {},
   "outputs": [],
   "source": [
    "xgb = XGBClassifier()\n",
    "\n",
    "# Choose some parameter combinations to try\n",
    "parameters = {'n_estimators': [100,200,300],\n",
    "              'learning_rate':[0.1, 0.3, 0.5],\n",
    "              'max_depth': [3, 10, 15]\n",
    "             }\n",
    "\n",
    "# Run the grid search\n",
    "grid_xgb = GridSearchCV(xgb, parameters,\n",
    "                        cv=5, #Determines the cross-validation splitting strategy /to specify the number of folds in a (Stratified)KFold\n",
    "                        n_jobs=-1, #Number of jobs to run in parallel\n",
    "                        verbose=1)\n",
    "grid_xgb = grid_xgb.fit(X_train, y_train)\n",
    "\n",
    "# Set the xgb to the best combination of parameters\n",
    "xgb = grid_xgb.best_estimator_\n",
    "\n",
    "# Fit the best algorithm to the data. \n",
    "xgb.fit(X_train, y_train)"
   ]
  },
  {
   "cell_type": "code",
   "execution_count": 398,
   "metadata": {
    "collapsed": true
   },
   "outputs": [],
   "source": [
    "# make predictions\n",
    "y_train_xgb = xgb.predict(X_train)\n",
    "y_test_xgb = xgb.predict(X_test)"
   ]
  },
  {
   "cell_type": "markdown",
   "metadata": {},
   "source": [
    "### Evaluate the model"
   ]
  },
  {
   "cell_type": "code",
   "execution_count": 411,
   "metadata": {},
   "outputs": [
    {
     "name": "stdout",
     "output_type": "stream",
     "text": [
      "Training set scores:\n",
      "Accuracy of the model is: 0.8612874934222067\n",
      "Precision of the model is: 0.875240589907333\n",
      "Recall of the model is: 0.9192935128224009\n",
      "f1-score of the model is: 0.8967263372000013\n"
     ]
    }
   ],
   "source": [
    "print(\"Training set scores:\")\n",
    "print_results(y_train, y_train_xgb)"
   ]
  },
  {
   "cell_type": "code",
   "execution_count": 412,
   "metadata": {},
   "outputs": [
    {
     "name": "stdout",
     "output_type": "stream",
     "text": [
      "Testing set scores:\n",
      "Accuracy of the model is: 0.8436516080371159\n",
      "Precision of the model is: 0.8630946291560102\n",
      "Recall of the model is: 0.904563425584668\n",
      "f1-score of the model is: 0.8833426038019828\n"
     ]
    }
   ],
   "source": [
    "print(\"Testing set scores:\")\n",
    "print_results(y_test, y_test_xgb)"
   ]
  },
  {
   "cell_type": "code",
   "execution_count": 413,
   "metadata": {},
   "outputs": [
    {
     "name": "stdout",
     "output_type": "stream",
     "text": [
      "AUC for train set is: 0.8352045863731854\n"
     ]
    }
   ],
   "source": [
    "print(\"AUC for train set is: {}\".format(roc_auc_score(y_train, y_train_xgb)))"
   ]
  },
  {
   "cell_type": "code",
   "execution_count": 414,
   "metadata": {},
   "outputs": [
    {
     "name": "stdout",
     "output_type": "stream",
     "text": [
      "AUC for test set is: 0.8164394552680991\n"
     ]
    }
   ],
   "source": [
    "print(\"AUC for test set is: {}\".format(roc_auc_score(y_test, y_test_xgb)))"
   ]
  },
  {
   "cell_type": "code",
   "execution_count": 403,
   "metadata": {},
   "outputs": [
    {
     "data": {
      "image/png": "[encoded data removed]",
      "text/plain": [
       "<matplotlib.figure.Figure at 0x7f611f533390>"
      ]
     },
     "metadata": {},
     "output_type": "display_data"
    }
   ],
   "source": [
    "# plot ROC\n",
    "y_test_xgb_proba = xgb.predict_proba(X_test)[:,1]\n",
    "fpr, tpr, thresholds = roc_curve(y_test, y_test_xgb_proba)\n",
    "# plot TPR against FPR\n",
    "plt.plot(fpr, tpr, color='red')\n",
    "\n",
    "plt.xlabel(\"False Positive Rate\")\n",
    "plt.ylabel(\"True Positive Rate\")\n",
    "plt.title(\"ROC\")\n",
    "\n",
    "plt.show()"
   ]
  },
  {
   "cell_type": "markdown",
   "metadata": {},
   "source": [
    "### Feature Importance"
   ]
  },
  {
   "cell_type": "code",
   "execution_count": 404,
   "metadata": {},
   "outputs": [
    {
     "data": {
      "text/plain": [
       "['p1_play_freq',\n",
       " 'p1_song_num',\n",
       " 'p1_play_time',\n",
       " 'p1_play_perc',\n",
       " 'p1_down_freq',\n",
       " 'p2_play_freq',\n",
       " 'p2_song_num',\n",
       " 'p2_play_time',\n",
       " 'p2_play_perc',\n",
       " 'p2_down_freq',\n",
       " 'p3_play_freq',\n",
       " 'p3_song_num',\n",
       " 'p3_play_time',\n",
       " 'p3_play_perc',\n",
       " 'p3_down_freq',\n",
       " 'recency']"
      ]
     },
     "execution_count": 404,
     "metadata": {},
     "output_type": "execute_result"
    }
   ],
   "source": [
    "selected_features"
   ]
  },
  {
   "cell_type": "code",
   "execution_count": 406,
   "metadata": {},
   "outputs": [
    {
     "name": "stdout",
     "output_type": "stream",
     "text": [
      "Feature ranking:\n",
      "1. feature 2 (0.203237)\n",
      "2. feature 3 (0.195899)\n",
      "3. feature 1 (0.110498)\n",
      "4. feature 8 (0.087719)\n",
      "5. feature 7 (0.081349)\n",
      "6. feature 12 (0.076802)\n",
      "7. feature 13 (0.074979)\n",
      "8. feature 15 (0.056431)\n",
      "9. feature 6 (0.050849)\n",
      "10. feature 11 (0.041485)\n",
      "11. feature 4 (0.016972)\n",
      "12. feature 0 (0.001643)\n",
      "13. feature 5 (0.001598)\n",
      "14. feature 10 (0.000540)\n",
      "15. feature 14 (0.000000)\n",
      "16. feature 9 (0.000000)\n"
     ]
    },
    {
     "data": {
      "image/png": "[encoded data removed]",
      "text/plain": [
       "<matplotlib.figure.Figure at 0x7f6119ebf2b0>"
      ]
     },
     "metadata": {},
     "output_type": "display_data"
    }
   ],
   "source": [
    "importances_xgb =xgb.feature_importances_\n",
    "\n",
    "indices_xgb = np.argsort(importances_xgb)[::-1]\n",
    "\n",
    "# Print the feature ranking\n",
    "print(\"Feature ranking:\")\n",
    "\n",
    "for f in range(X.shape[1]):\n",
    "    print(\"%d. feature %d (%f)\" % (f + 1, indices_xgb[f], importances_xgb[indices_xgb[f]]))\n",
    "\n",
    "# Plot the feature importances of the forest\n",
    "plt.figure()\n",
    "plt.title(\"Feature importances\")\n",
    "plt.bar(range(X.shape[1]), importances_xgb[indices_xgb],\n",
    "       color=\"r\")\n",
    "plt.xticks(range(X.shape[1]), indices_xgb)\n",
    "plt.xlim([-1, X.shape[1]])\n",
    "plt.show()"
   ]
  },
  {
   "cell_type": "markdown",
   "metadata": {},
   "source": [
    "We can see for the xgboost model, the top three important features are p1_play_time,p1_play_perc and p1_song_num."
   ]
  },
  {
   "cell_type": "markdown",
   "metadata": {},
   "source": [
    "## Random Forest"
   ]
  },
  {
   "cell_type": "markdown",
   "metadata": {},
   "source": [
    "### Train the model"
   ]
  },
  {
   "cell_type": "code",
   "execution_count": 408,
   "metadata": {},
   "outputs": [
    {
     "name": "stdout",
     "output_type": "stream",
     "text": [
      "Fitting 5 folds for each of 9 candidates, totalling 45 fits\n"
     ]
    },
    {
     "name": "stderr",
     "output_type": "stream",
     "text": [
      "[Parallel(n_jobs=-1)]: Done  45 out of  45 | elapsed: 38.5min finished\n"
     ]
    },
    {
     "data": {
      "text/plain": [
       "RandomForestClassifier(bootstrap=True, class_weight=None, criterion='gini',\n",
       "            max_depth=None, max_features='auto', max_leaf_nodes=None,\n",
       "            min_impurity_decrease=0.0, min_impurity_split=None,\n",
       "            min_samples_leaf=8, min_samples_split=2,\n",
       "            min_weight_fraction_leaf=0.0, n_estimators=100, n_jobs=1,\n",
       "            oob_score=False, random_state=None, verbose=0,\n",
       "            warm_start=False)"
      ]
     },
     "execution_count": 408,
     "metadata": {},
     "output_type": "execute_result"
    }
   ],
   "source": [
    "# Choose the type of classifier. \n",
    "RFR = RandomForestClassifier()\n",
    "\n",
    "# Choose some parameter combinations to try\n",
    "parameters = {'n_estimators': [100,150,200],\n",
    "              'min_samples_leaf': [3,5,8]\n",
    "             }\n",
    "\n",
    "# Run the grid search\n",
    "grid_obj = GridSearchCV(RFR, parameters,\n",
    "                        cv=5, #Determines the cross-validation splitting strategy /to specify the number of folds in a (Stratified)KFold\n",
    "                        n_jobs=-1, #Number of jobs to run in parallel\n",
    "                        verbose=1)\n",
    "grid_obj = grid_obj.fit(X_train, y_train)\n",
    "\n",
    "# Set the clf to the best combination of parameters\n",
    "RFR = grid_obj.best_estimator_\n",
    "\n",
    "# Fit the best algorithm to the data. \n",
    "RFR.fit(X_train, y_train)"
   ]
  },
  {
   "cell_type": "code",
   "execution_count": 415,
   "metadata": {
    "collapsed": true
   },
   "outputs": [],
   "source": [
    "# make predictions\n",
    "y_train_rf = RFR.predict(X_train)\n",
    "y_test_rf = RFR.predict(X_test)"
   ]
  },
  {
   "cell_type": "markdown",
   "metadata": {},
   "source": [
    "### Evaluate the model"
   ]
  },
  {
   "cell_type": "code",
   "execution_count": 416,
   "metadata": {},
   "outputs": [
    {
     "name": "stdout",
     "output_type": "stream",
     "text": [
      "Training set scores:\n",
      "Accuracy of the model is: 0.8801920715663919\n",
      "Precision of the model is: 0.8876218602140294\n",
      "Recall of the model is: 0.9355599884862806\n",
      "f1-score of the model is: 0.910960689866446\n"
     ]
    }
   ],
   "source": [
    "print(\"Training set scores:\")\n",
    "print_results(y_train, y_train_rf)"
   ]
  },
  {
   "cell_type": "code",
   "execution_count": 417,
   "metadata": {},
   "outputs": [
    {
     "name": "stdout",
     "output_type": "stream",
     "text": [
      "Testing set scores:\n",
      "Accuracy of the model is: 0.8438884065216057\n",
      "Precision of the model is: 0.8640446990375866\n",
      "Recall of the model is: 0.9036252764189506\n",
      "f1-score of the model is: 0.8833918557727582\n"
     ]
    }
   ],
   "source": [
    "print(\"Testing set scores:\")\n",
    "print_results(y_test, y_test_rf)"
   ]
  },
  {
   "cell_type": "code",
   "execution_count": 418,
   "metadata": {},
   "outputs": [
    {
     "name": "stdout",
     "output_type": "stream",
     "text": [
      "AUC for train set is: 0.8552954100569046\n"
     ]
    }
   ],
   "source": [
    "print(\"AUC for train set is: {}\".format(roc_auc_score(y_train, y_train_rf)))"
   ]
  },
  {
   "cell_type": "code",
   "execution_count": 419,
   "metadata": {},
   "outputs": [
    {
     "name": "stdout",
     "output_type": "stream",
     "text": [
      "AUC for test set is: 0.8172011577242699\n"
     ]
    }
   ],
   "source": [
    "print(\"AUC for test set is: {}\".format(roc_auc_score(y_test, y_test_rf)))"
   ]
  },
  {
   "cell_type": "code",
   "execution_count": 420,
   "metadata": {},
   "outputs": [
    {
     "data": {
      "image/png": "[encoded data removed]",
      "text/plain": [
       "<matplotlib.figure.Figure at 0x7f6119dde630>"
      ]
     },
     "metadata": {},
     "output_type": "display_data"
    }
   ],
   "source": [
    "y_test_rf_proba = RFR.predict_proba(X_test)[:,1]\n",
    "fpr, tpr, thresholds = roc_curve(y_test, y_test_rf_proba)\n",
    "# plot TPR against FPR\n",
    "plt.plot(fpr, tpr, color='red')\n",
    "\n",
    "plt.xlabel(\"False Positive Rate\")\n",
    "plt.ylabel(\"True Positive Rate\")\n",
    "plt.title(\"ROC\")\n",
    "\n",
    "plt.show()"
   ]
  },
  {
   "cell_type": "markdown",
   "metadata": {},
   "source": [
    "### Feature Importance"
   ]
  },
  {
   "cell_type": "code",
   "execution_count": 421,
   "metadata": {},
   "outputs": [
    {
     "name": "stdout",
     "output_type": "stream",
     "text": [
      "Feature ranking:\n",
      "1. feature 15 (0.272664)\n",
      "2. feature 10 (0.164425)\n",
      "3. feature 13 (0.135531)\n",
      "4. feature 11 (0.115516)\n",
      "5. feature 12 (0.085874)\n",
      "6. feature 6 (0.060335)\n",
      "7. feature 5 (0.035846)\n",
      "8. feature 8 (0.030464)\n",
      "9. feature 2 (0.029928)\n",
      "10. feature 1 (0.028435)\n",
      "11. feature 7 (0.022557)\n",
      "12. feature 3 (0.004937)\n",
      "13. feature 9 (0.003945)\n",
      "14. feature 4 (0.003332)\n",
      "15. feature 14 (0.003318)\n",
      "16. feature 0 (0.002895)\n"
     ]
    },
    {
     "data": {
      "image/png": "[encoded data removed]",
      "text/plain": [
       "<matplotlib.figure.Figure at 0x7f6119cee438>"
      ]
     },
     "metadata": {},
     "output_type": "display_data"
    }
   ],
   "source": [
    "importances_rf = RFR.feature_importances_\n",
    "\n",
    "indices_rf = np.argsort(importances_rf)[::-1]\n",
    "\n",
    "# Print the feature ranking\n",
    "print(\"Feature ranking:\")\n",
    "\n",
    "for f in range(X.shape[1]):\n",
    "    print(\"%d. feature %d (%f)\" % (f + 1, indices_rf[f], importances_rf[indices_rf[f]]))\n",
    "\n",
    "# Plot the feature importances of the forest\n",
    "plt.figure()\n",
    "plt.title(\"Feature importances\")\n",
    "plt.bar(range(X.shape[1]), importances_rf[indices_rf],\n",
    "       color=\"r\")\n",
    "plt.xticks(range(X.shape[1]), indices_rf)\n",
    "plt.xlim([-1, X.shape[1]])\n",
    "plt.show()"
   ]
  },
  {
   "cell_type": "markdown",
   "metadata": {},
   "source": [
    "We can see for the random forest model, the top three important features are recency, p3_play_freq and p3_play_perc."
   ]
  },
  {
   "cell_type": "code",
   "execution_count": null,
   "metadata": {},
   "outputs": [],
   "source": []
  }
 ],
 "metadata": {
  "kernelspec": {
   "display_name": "PySpark",
   "language": "python",
   "name": "pyspark"
  },
  "language_info": {
   "codemirror_mode": {
    "name": "ipython",
    "version": 3
   },
   "file_extension": ".py",
   "mimetype": "text/x-python",
   "name": "python",
   "nbconvert_exporter": "python",
   "pygments_lexer": "ipython3",
   "version": "3.5.2"
  }
 },
 "nbformat": 4,
 "nbformat_minor": 2
}
